{
 "cells": [
  {
   "cell_type": "code",
   "execution_count": null,
   "id": "f8779915",
   "metadata": {},
   "outputs": [
    {
     "name": "stdout",
     "output_type": "stream",
     "text": [
      "-----Grocery Bag-----\n",
      "[]\n",
      "\n",
      "Enter 'edit' to edit your Grocery Bag. Enter 'done' to checkout.\n"
     ]
    }
   ],
   "source": [
    "from IPython.display import clear_output as co\n",
    "\n",
    "bag=[]\n",
    "prices={'apples':2.99, 'bread':1.99, 'oil':2.49,\n",
    "       'eggs':1.79, 'milk':10.00, 'beer':5.99, 'sugar':2.99\n",
    "       }\n",
    "\n",
    "\n",
    "def edit(a_list):\n",
    "    print(a_list)\n",
    "    \n",
    "    it = True\n",
    "    while it:\n",
    "        delete=input('Enter any item you would like to delete. Press q to quit ')\n",
    "        co()\n",
    "        if delete == 'q':\n",
    "            it=False\n",
    "        else:\n",
    "            del bag['points']\n",
    "            print(\"-----Grocery Bag-----\")\n",
    "            print(a_list)\n",
    "\n",
    "            \n",
    "print(\"\"\"Enter your first item! \n",
    "    Enter 'edit' to edit your Grocery Bag. Enter 'done' to checkout.\n",
    "    \"\"\")\n",
    "total=False\n",
    "while not total:\n",
    "    \n",
    "    item = input(\"\"\"Please enter your next item: \"\"\").lower()\n",
    "    co()\n",
    "    \n",
    "    if item == \"done\":\n",
    "        total=True\n",
    "        print(\"-----Grocery Bag-----\")\n",
    "        print(bag)\n",
    "        print(\"\\nYour total is: $0.00. It's free! It's fine just take it.\")\n",
    "    elif item == \"edit\":\n",
    "        print(\"-----Grocery Bag-----\")\n",
    "        edit(bag)\n",
    "    else:\n",
    "        for key,value in prices.items():\n",
    "            if item == key:\n",
    "                bag.append({key:value})\n",
    "        \n",
    "        print(\"-----Grocery Bag-----\")\n",
    "        print(bag)\n",
    "        print(\"\\nEnter 'edit' to edit your Grocery Bag. Enter 'done' to checkout.\")\n",
    "        \n",
    "        \n",
    "\n"
   ]
  },
  {
   "cell_type": "code",
   "execution_count": null,
   "id": "9063bbda",
   "metadata": {},
   "outputs": [],
   "source": []
  }
 ],
 "metadata": {
  "kernelspec": {
   "display_name": "Python 3",
   "language": "python",
   "name": "python3"
  }
 },
 "nbformat": 4,
 "nbformat_minor": 5
}
